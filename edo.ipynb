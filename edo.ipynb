{
 "cells": [
  {
   "cell_type": "markdown",
   "metadata": {
    "slideshow": {
     "slide_type": "slide"
    }
   },
   "source": [
    "<div style=\"margin-left:3vw;text-align:center\" > <img src=\"https://raw.githubusercontent.com/sagemath/artwork/dc51186a48f46ac9ff29e453491b8daf4c52ca15/sagemath/stickermule/sage-squared.svg\" alt=\"SageMath Logo\" style=\"width:100px;float:right\"/> \n",
    "</div>\n",
    "\n",
    "[SageMath](https://sagemath.org/)\n",
    "\n",
    "[SageMath Browser](https://sagecell.sagemath.org/)\n",
    "\n",
    "[Link do Arquivo no GitHub](https://github.com/Gabriel5Romao/coisas_matematicas/blob/main/equacoes_diferenciais_sage.ipynb)\n"
   ]
  },
  {
   "cell_type": "markdown",
   "metadata": {
    "slideshow": {
     "slide_type": "slide"
    }
   },
   "source": [
    "## Resolução de Equações Diferenciais Utilizando SageMath\n",
    "\n",
    "Este documento implementa algoritmos para auxiliar o estudos de Equações diferenciais definidas da seguinte forma: seja $y$ uma função de $t$, e uma equação diferencial (1) definida na seguinte forma:\n",
    "\n",
    "$$\\begin{equation}\n",
    "y''(t) + p(t)y' + q(t)y = g(t)\n",
    "\\end{equation}$$\n",
    "\n",
    "Para que o sage reconheça uma derivada, uma função e igualdade, devemos utilizar de funções já embutidas. Segue a instrução para resolução de uma E.D.O.\n",
    "\n",
    "1. Defina as variáveis utilizando `var(\"x1,x2,x3,...\")` onde `x1,x2,x3,...` é cada uma das variáveis que você irá utilizar. Defina também as variáveis independentes.\n",
    "2. Se y é função de t, então escreva `y = function('y')(t)`\n",
    "3. Para derivar, usamos a função do Sage, `diff(função,variável,opcional:ordem_da_derivada)`\n",
    "4. Uma boa prática é guardar a equação diferencial em uma variável.\n",
    "5. Para resolver a equação diferencial utilize a função `desolve(equação_diferencial,variável_dependente,opcional:show_method=True)`"
   ]
  },
  {
   "cell_type": "markdown",
   "metadata": {
    "slideshow": {
     "slide_type": "subslide"
    }
   },
   "source": [
    "## Observações adicionais\n",
    "\n",
    "Com o objetivo de fazer também o gráfico. Foi criada função `desolvep` que é utilizada da mesma maneira que a função `desolve`. Uma abreviação para _desolve plus_ em que, diferente da função simples _desolve_, ela é capaz de retornar mais informações sobre a respectiva equação.\n",
    "\n",
    "Para auxiliar com a aplicação e estudo do método de variação dos parâmetros e coeficientes a se determinar, foram introduzidas as funções `wronsk`,`particular_solve`, `homogeneous_solve`, `solutions_set`, `gen_model`.\n",
    "\n",
    "Utilize a função `show` para tornar a saída mais legível. Use `show(termo)`"
   ]
  },
  {
   "cell_type": "code",
   "execution_count": null,
   "metadata": {
    "slideshow": {
     "slide_type": "slide"
    }
   },
   "outputs": [],
   "source": []
  },
  {
   "cell_type": "code",
   "execution_count": 1,
   "metadata": {
    "slideshow": {
     "slide_type": "subslide"
    }
   },
   "outputs": [],
   "source": [
    "def wronsk(y1:SR,y2:SR,independent_var:str) -> SR:\n",
    "    \"\"\"\n",
    "    Return the Wronsk's Determinant of the solutions y1 and y2 of a ODE.\n",
    "    Parameters:\n",
    "        y1: A SR, which is one of the solutions da ODE.\n",
    "        y2: A SR, which is one of the solutions da ODE.\n",
    "        independent_var: A str which is the variable of the solutions or the problem\n",
    "    Output:\n",
    "        A SR which represents the Wronsk's determinant\n",
    "    \"\"\"\n",
    "    return det(matrix([[SR(y1),SR(y2)],[diff(SR(y1),SR(independent_var)),diff(SR(y2),SR(independent_var))]])).simplify_full()"
   ]
  },
  {
   "cell_type": "code",
   "execution_count": 2,
   "metadata": {
    "slideshow": {
     "slide_type": "subslide"
    }
   },
   "outputs": [],
   "source": [
    "def particular_solve(de:SR,dependent_variable:var) -> SR:\n",
    "    \"\"\"\n",
    "    A function which return the particular solution of a differential equation\n",
    "\n",
    "    Parameters:\n",
    "        de : a differential equation\n",
    "        dependent_variable : the dependent variable of the differential equation\n",
    "\n",
    "    Output:\n",
    "        Symbolic Ring which representate the particular solution\n",
    "    \"\"\"\n",
    "    \n",
    "    result = desolve(de,dependent_variable,contrib_ode=True)\n",
    "    return result.subs(_K1=0,_K2=0)"
   ]
  },
  {
   "cell_type": "code",
   "execution_count": 3,
   "metadata": {
    "slideshow": {
     "slide_type": "subslide"
    }
   },
   "outputs": [],
   "source": [
    "def homogeneous_solve(de:SR,dependent_variable:var) -> SR:\n",
    "    \"\"\"\n",
    "    A function which return the homogeneous solution of a differential equation\n",
    "\n",
    "    Parameters:\n",
    "        de : a differential equation\n",
    "        dependent_variable : the dependent variable of the differential equation\n",
    "\n",
    "    Output:\n",
    "        Symbolic Ring which representate the homogeneous solution of a differential equation\n",
    "    \"\"\"\n",
    "    \n",
    "    return desolve(de,dependent_variable,contrib_ode=True) - particular_solve(de,dependent_variable)"
   ]
  },
  {
   "cell_type": "code",
   "execution_count": 4,
   "metadata": {
    "slideshow": {
     "slide_type": "subslide"
    }
   },
   "outputs": [],
   "source": [
    "def solutions_set(de:SR,dependent_variable:var) -> SR:\n",
    "    \"\"\"\n",
    "    A function which return the fundamental solutions set of a homogeneous differential equation\n",
    "\n",
    "    Parameters:\n",
    "        de : a differential equation\n",
    "        dependent_variable : the dependent variable of the differential equation\n",
    "\n",
    "    Output:\n",
    "        Symbolic Ring which representate the fundamental solutions set of a differential equation\n",
    "\n",
    "    \"\"\"\n",
    "    try:\n",
    "        return set((homogeneous_solve(de,dependent_variable).subs(_K1=1,_K2=0),homogeneous_solve(de,dependent_variable).subs(_K1=0,_K2=1)))\n",
    "    except:\n",
    "        return set((homogeneous_solve(de.lhs(),dependent_variable).subs(_K1=1,_K2=0),homogeneous_solve(de,dependent_variable).subs(_K1=0,_K2=1)))"
   ]
  },
  {
   "cell_type": "code",
   "execution_count": 5,
   "metadata": {
    "slideshow": {
     "slide_type": "skip"
    }
   },
   "outputs": [],
   "source": [
    "def _constants(poli:float=0,pot:float=0,arc:float=0) -> tuple:\n",
    "    \n",
    "    \"\"\"\n",
    "    A function to show the used constants on gen_model. Just to print the constants, so you can copy to another function. Return a tuple with the constants.\n",
    "    \n",
    "    Parameters:\n",
    "        poli: the polynomial degree\n",
    "        pot: the exponential factor\n",
    "        arc: the arc factor, if the function is a trigonometric\n",
    "        \n",
    "    Output:\n",
    "        A tuple with the used constants on the gen_model function.\n",
    "    \"\"\"\n",
    "    \n",
    "    constants = []\n",
    "    for index in range(poli+1):\n",
    "        constants.append(SR(f\"_A{index}\"))\n",
    "        if arc != 0:\n",
    "            constants.append(SR(f\"_B{index}\"))\n",
    "            \n",
    "    return tuple(constants)"
   ]
  },
  {
   "cell_type": "code",
   "execution_count": 6,
   "metadata": {
    "slideshow": {
     "slide_type": "subslide"
    }
   },
   "outputs": [],
   "source": [
    "def gen_model(independent_var:var,poli:float=0,pot:float=0,arc:float=0,const:bool=False)-> SR:\n",
    "    \"\"\"\n",
    "    A function to show the approximate model which you needs to use to solve a differential equation by the indeterminated coeficients \n",
    "    \n",
    "    Parameters:\n",
    "        independent_var: the independent_var of the differential equation\n",
    "        poli: the polynomial degree\n",
    "        pot: the exponential factor\n",
    "        arc: the arc factor, if the function is a trigonometric\n",
    "        const: explicit if you need to know the constants used explicitly\n",
    "        \n",
    "    Output:\n",
    "        A symbolic ring which representate the model of solution for a differential equation.\n",
    "        \n",
    "    \"\"\"\n",
    "    \n",
    "    for index in range(poli+1):\n",
    "        var(f\"_A{index}\")\n",
    "        var(f\"_B{index}\")\n",
    "    \n",
    "    polynomial_part1 = [SR(f\"_A{c}\")*independent_var^c for c in range(poli+1)]\n",
    "    polynomial_part2 = [SR(f\"_B{c}\")*independent_var^c for c in range(poli+1)]\n",
    "    result = sum(polynomial_part1) * e^(pot*independent_var)*cos(arc*t) if arc==0 else \\\n",
    "    sum(polynomial_part1) * e^(pot*independent_var)*cos(arc*t) + sum(polynomial_part2)* e^(pot*independent_var)*sin(arc*t)\n",
    "    if const:\n",
    "        print(_constants(independent_var,poli,pot,arc))\n",
    "        \n",
    "    return result"
   ]
  },
  {
   "cell_type": "code",
   "execution_count": 7,
   "metadata": {},
   "outputs": [],
   "source": [
    "def desolvep(de:SR,dependent_variable:var,switch_for:str=\"1\")-> Graphics:\n",
    "    \"\"\"\n",
    "    Function which uses the built-in desolve sage function. Added the show method to print the result of desolve and\n",
    "    a simple plot to visualize the result.\n",
    "    Parameters:\n",
    "        de: A Symbolyc Ring which represents the differential equation.\n",
    "        dependent_variable: result in function fo the variable dependent_variable.\n",
    "        switch_for: the given number of type str.\n",
    "    Output:\n",
    "        A graphics 2d object\n",
    "    \"\"\"\n",
    "    \n",
    "    result_method = desolve(de,dependent_variable,show_method=True,contrib_ode=True) \n",
    "    #if result_method[1] == \"variationofparameters\":\n",
    "    #    result_method[1] = \"Variação dos Parâmetros\"\n",
    "    show(f\"A solução geral {dependent_variable} da equação é: \")\n",
    "    show(result_method[0])\n",
    "    show(f\"Pelo método de {result_method[1]}\")\n",
    "    try:\n",
    "        text = desolve(de,dependent_variable,show_method=True)[0]\n",
    "    except NotImplementedError:\n",
    "        text = desolve(de,dependent_variable,show_method=True,contrib_ode=True)[0]\n",
    "    \n",
    "    p = [plot(text.subs(_K1=i*3,_K2=i*3),(-10*pi,10*pi),color=rainbow(5)[i],ymin=-7*pi,ymax=7*pi) for i in range(0,4)]\n",
    "    \n",
    "    show(\"Conjunto fundamental de soluções:\")\n",
    "    show(solutions_set(de,y))\n",
    "    \n",
    "    show(\"Solução da parte homogênea:\")\n",
    "    show(homogeneous_solve(de,y))\n",
    "    \n",
    "    show(\"Solução particular:\")\n",
    "    show(particular_solve(de,y))\n",
    "    \n",
    "    return show(sum(p),figsize=(4),aspect_ratio='automatic')"
   ]
  },
  {
   "cell_type": "markdown",
   "metadata": {
    "slideshow": {
     "slide_type": "slide"
    }
   },
   "source": [
    "**EX:** Encontre a solução geral da equação $y'' + y' = 2 +t^2$"
   ]
  },
  {
   "cell_type": "code",
   "execution_count": 8,
   "metadata": {
    "slideshow": {
     "slide_type": "fragment"
    }
   },
   "outputs": [],
   "source": [
    "var(\"y,t\") # Declaração de Variáveis;\n",
    "y = function('y')(t)  # Reconheça y como função de t;\n",
    "d1 = diff(y,t)  # Derivada de y com relação a t;\n",
    "d2 = diff(y,t,2)  # Derivada de y com relação a t de ordem 2;\n"
   ]
  },
  {
   "cell_type": "code",
   "execution_count": 9,
   "metadata": {
    "scrolled": true,
    "slideshow": {
     "slide_type": "fragment"
    }
   },
   "outputs": [
    {
     "data": {
      "text/plain": [
       "1/3*t^3 - t^2 + _K2*e^(-t) + _K1 + 4*t - 4"
      ]
     },
     "execution_count": 9,
     "metadata": {},
     "output_type": "execute_result"
    }
   ],
   "source": [
    "de = d2 + d1 == 2 + t^2  # Armazenando a E.D.O. em uma variável\n",
    "desolve(de,y)  # Resolve a E.D.O."
   ]
  },
  {
   "cell_type": "code",
   "execution_count": 10,
   "metadata": {
    "scrolled": true,
    "slideshow": {
     "slide_type": "subslide"
    }
   },
   "outputs": [
    {
     "data": {
      "text/html": [
       "<html><script type=\"math/tex; mode=display\">\\newcommand{\\Bold}[1]{\\mathbf{#1}}\\verb|A|\\phantom{\\verb!x!}\\verb|solução|\\phantom{\\verb!x!}\\verb|geral|\\phantom{\\verb!x!}\\verb|y(t)|\\phantom{\\verb!x!}\\verb|da|\\phantom{\\verb!x!}\\verb|equação|\\phantom{\\verb!x!}\\verb|é:|</script></html>"
      ],
      "text/latex": [
       "\\begin{math}\n",
       "\\newcommand{\\Bold}[1]{\\mathbf{#1}}\\verb|A|\\phantom{\\verb!x!}\\verb|solução|\\phantom{\\verb!x!}\\verb|geral|\\phantom{\\verb!x!}\\verb|y(t)|\\phantom{\\verb!x!}\\verb|da|\\phantom{\\verb!x!}\\verb|equação|\\phantom{\\verb!x!}\\verb|é:|\n",
       "\\end{math}"
      ],
      "text/plain": [
       "'A solução geral y(t) da equação é: '"
      ]
     },
     "metadata": {},
     "output_type": "display_data"
    },
    {
     "data": {
      "text/html": [
       "<html><script type=\"math/tex; mode=display\">\\newcommand{\\Bold}[1]{\\mathbf{#1}}\\frac{1}{3} \\, t^{3} - t^{2} + K_{2} e^{\\left(-t\\right)} + K_{1} + 4 \\, t - 4</script></html>"
      ],
      "text/latex": [
       "\\begin{math}\n",
       "\\newcommand{\\Bold}[1]{\\mathbf{#1}}\\frac{1}{3} \\, t^{3} - t^{2} + K_{2} e^{\\left(-t\\right)} + K_{1} + 4 \\, t - 4\n",
       "\\end{math}"
      ],
      "text/plain": [
       "1/3*t^3 - t^2 + _K2*e^(-t) + _K1 + 4*t - 4"
      ]
     },
     "metadata": {},
     "output_type": "display_data"
    },
    {
     "data": {
      "text/html": [
       "<html><script type=\"math/tex; mode=display\">\\newcommand{\\Bold}[1]{\\mathbf{#1}}\\verb|Pelo|\\phantom{\\verb!x!}\\verb|método|\\phantom{\\verb!x!}\\verb|de|\\phantom{\\verb!x!}\\verb|variationofparameters|</script></html>"
      ],
      "text/latex": [
       "\\begin{math}\n",
       "\\newcommand{\\Bold}[1]{\\mathbf{#1}}\\verb|Pelo|\\phantom{\\verb!x!}\\verb|método|\\phantom{\\verb!x!}\\verb|de|\\phantom{\\verb!x!}\\verb|variationofparameters|\n",
       "\\end{math}"
      ],
      "text/plain": [
       "'Pelo método de variationofparameters'"
      ]
     },
     "metadata": {},
     "output_type": "display_data"
    },
    {
     "data": {
      "text/html": [
       "<html><script type=\"math/tex; mode=display\">\\newcommand{\\Bold}[1]{\\mathbf{#1}}\\verb|Conjunto|\\phantom{\\verb!x!}\\verb|fundamental|\\phantom{\\verb!x!}\\verb|de|\\phantom{\\verb!x!}\\verb|soluções:|</script></html>"
      ],
      "text/latex": [
       "\\begin{math}\n",
       "\\newcommand{\\Bold}[1]{\\mathbf{#1}}\\verb|Conjunto|\\phantom{\\verb!x!}\\verb|fundamental|\\phantom{\\verb!x!}\\verb|de|\\phantom{\\verb!x!}\\verb|soluções:|\n",
       "\\end{math}"
      ],
      "text/plain": [
       "'Conjunto fundamental de soluções:'"
      ]
     },
     "metadata": {},
     "output_type": "display_data"
    },
    {
     "data": {
      "text/html": [
       "<html><script type=\"math/tex; mode=display\">\\newcommand{\\Bold}[1]{\\mathbf{#1}}\\verb|{1,|\\phantom{\\verb!x!}\\verb|e^(-t)}|</script></html>"
      ],
      "text/latex": [
       "\\begin{math}\n",
       "\\newcommand{\\Bold}[1]{\\mathbf{#1}}\\verb|{1,|\\phantom{\\verb!x!}\\verb|e^(-t)}|\n",
       "\\end{math}"
      ],
      "text/plain": [
       "{1, e^(-t)}"
      ]
     },
     "metadata": {},
     "output_type": "display_data"
    },
    {
     "data": {
      "text/html": [
       "<html><script type=\"math/tex; mode=display\">\\newcommand{\\Bold}[1]{\\mathbf{#1}}\\verb|Solução|\\phantom{\\verb!x!}\\verb|da|\\phantom{\\verb!x!}\\verb|parte|\\phantom{\\verb!x!}\\verb|homogênea:|</script></html>"
      ],
      "text/latex": [
       "\\begin{math}\n",
       "\\newcommand{\\Bold}[1]{\\mathbf{#1}}\\verb|Solução|\\phantom{\\verb!x!}\\verb|da|\\phantom{\\verb!x!}\\verb|parte|\\phantom{\\verb!x!}\\verb|homogênea:|\n",
       "\\end{math}"
      ],
      "text/plain": [
       "'Solução da parte homogênea:'"
      ]
     },
     "metadata": {},
     "output_type": "display_data"
    },
    {
     "data": {
      "text/html": [
       "<html><script type=\"math/tex; mode=display\">\\newcommand{\\Bold}[1]{\\mathbf{#1}}K_{2} e^{\\left(-t\\right)} + K_{1}</script></html>"
      ],
      "text/latex": [
       "\\begin{math}\n",
       "\\newcommand{\\Bold}[1]{\\mathbf{#1}}K_{2} e^{\\left(-t\\right)} + K_{1}\n",
       "\\end{math}"
      ],
      "text/plain": [
       "_K2*e^(-t) + _K1"
      ]
     },
     "metadata": {},
     "output_type": "display_data"
    },
    {
     "data": {
      "text/html": [
       "<html><script type=\"math/tex; mode=display\">\\newcommand{\\Bold}[1]{\\mathbf{#1}}\\verb|Solução|\\phantom{\\verb!x!}\\verb|particular:|</script></html>"
      ],
      "text/latex": [
       "\\begin{math}\n",
       "\\newcommand{\\Bold}[1]{\\mathbf{#1}}\\verb|Solução|\\phantom{\\verb!x!}\\verb|particular:|\n",
       "\\end{math}"
      ],
      "text/plain": [
       "'Solução particular:'"
      ]
     },
     "metadata": {},
     "output_type": "display_data"
    },
    {
     "data": {
      "text/html": [
       "<html><script type=\"math/tex; mode=display\">\\newcommand{\\Bold}[1]{\\mathbf{#1}}\\frac{1}{3} \\, t^{3} - t^{2} + 4 \\, t - 4</script></html>"
      ],
      "text/latex": [
       "\\begin{math}\n",
       "\\newcommand{\\Bold}[1]{\\mathbf{#1}}\\frac{1}{3} \\, t^{3} - t^{2} + 4 \\, t - 4\n",
       "\\end{math}"
      ],
      "text/plain": [
       "1/3*t^3 - t^2 + 4*t - 4"
      ]
     },
     "metadata": {},
     "output_type": "display_data"
    },
    {
     "data": {
      "image/png": "[encoded data removed]",
      "text/plain": [
       "Graphics object consisting of 4 graphics primitives"
      ]
     },
     "metadata": {},
     "output_type": "display_data"
    }
   ],
   "source": [
    "desolvep(de,y)  # Função customizada que resolve a E.D.O."
   ]
  },
  {
   "cell_type": "markdown",
   "metadata": {
    "slideshow": {
     "slide_type": "subslide"
    }
   },
   "source": [
    "Para se trabalhar com o método de coeficientes a se determinar, precisamos sempre conhecer um modelo. A função `gen_solve` informando a variável independente, o grau do polinômio (`poli`), o expoente (`pot`) e o arco (`arc`), gera um modelo para você trabalhar esse método.\n",
    "\n",
    "É possível tomar o modelo e usar as funções de derivada no sage para calcular derivada do modelo."
   ]
  },
  {
   "cell_type": "code",
   "execution_count": 11,
   "metadata": {
    "slideshow": {
     "slide_type": "fragment"
    }
   },
   "outputs": [
    {
     "data": {
      "text/plain": [
       "_A2*t^2 + _A1*t + _A0"
      ]
     },
     "execution_count": 11,
     "metadata": {},
     "output_type": "execute_result"
    }
   ],
   "source": [
    "gen_model(t,poli=2)  # Gerando o modelo para 2 + t^2"
   ]
  },
  {
   "cell_type": "code",
   "execution_count": 12,
   "metadata": {
    "slideshow": {
     "slide_type": "fragment"
    }
   },
   "outputs": [
    {
     "name": "stdout",
     "output_type": "stream",
     "text": [
      "_A2*t^2 + _A1*t + _A0\n",
      "2*_A2*t + _A1\n",
      "2*_A2\n"
     ]
    }
   ],
   "source": [
    "model = gen_model(t,poli=2)  # Guardando o modelo em uma variável\n",
    "d1model = diff(model,t)  # Derivada do modelo\n",
    "d2model = diff(model,t,2)  # Derivada segunda do modelo\n",
    "\n",
    "# Exibindo na tela os modelos\n",
    "print(model)\n",
    "print(d1model)\n",
    "print(d2model)"
   ]
  },
  {
   "cell_type": "markdown",
   "metadata": {
    "slideshow": {
     "slide_type": "subslide"
    }
   },
   "source": [
    "Vale lembrar que nem todo chute é válido. Se o modelo já for um múltiplo escalar de uma das soluções, então o modelo não é válido. Deve-se multiplicar o modelo pela variável independente, e se isso não for o suficente você multiplica novamente pela variável independente.\n",
    "\n",
    "Para isso, esse algoritmo dispões das funções `solutions_set` passando a equação e a variável dependente e da função `wronsk` passando as duas soluções ou chutes iniciais e a variável independente."
   ]
  },
  {
   "cell_type": "code",
   "execution_count": 13,
   "metadata": {
    "slideshow": {
     "slide_type": "fragment"
    }
   },
   "outputs": [
    {
     "data": {
      "text/plain": [
       "{1, e^(-t)}"
      ]
     },
     "execution_count": 13,
     "metadata": {},
     "output_type": "execute_result"
    }
   ],
   "source": [
    "solutions_set(de,y)  # Conjunto Fundamental de soluções da equação diferencial pré-definida na variável y"
   ]
  },
  {
   "cell_type": "code",
   "execution_count": 14,
   "metadata": {
    "slideshow": {
     "slide_type": "fragment"
    }
   },
   "outputs": [
    {
     "data": {
      "text/html": [
       "<html><script type=\"math/tex; mode=display\">\\newcommand{\\Bold}[1]{\\mathbf{#1}}e^{\\left(-t\\right)}</script></html>"
      ],
      "text/latex": [
       "\\begin{math}\n",
       "\\newcommand{\\Bold}[1]{\\mathbf{#1}}e^{\\left(-t\\right)}\n",
       "\\end{math}"
      ],
      "text/plain": [
       "e^(-t)"
      ]
     },
     "metadata": {},
     "output_type": "display_data"
    }
   ],
   "source": [
    "show(wronsk(e^(-t),1,t))  # Wronskiano do conjunto fundamental de solução"
   ]
  },
  {
   "cell_type": "code",
   "execution_count": 15,
   "metadata": {
    "slideshow": {
     "slide_type": "fragment"
    }
   },
   "outputs": [
    {
     "data": {
      "text/html": [
       "<html><script type=\"math/tex; mode=display\">\\newcommand{\\Bold}[1]{\\mathbf{#1}}K_{2} e^{\\left(-t\\right)} + K_{1}</script></html>"
      ],
      "text/latex": [
       "\\begin{math}\n",
       "\\newcommand{\\Bold}[1]{\\mathbf{#1}}K_{2} e^{\\left(-t\\right)} + K_{1}\n",
       "\\end{math}"
      ],
      "text/plain": [
       "_K2*e^(-t) + _K1"
      ]
     },
     "metadata": {},
     "output_type": "display_data"
    }
   ],
   "source": [
    "show(homogeneous_solve(de,y))  # Solução da Homogênea na variável y"
   ]
  },
  {
   "cell_type": "code",
   "execution_count": 16,
   "metadata": {
    "slideshow": {
     "slide_type": "fragment"
    }
   },
   "outputs": [
    {
     "data": {
      "text/html": [
       "<html><script type=\"math/tex; mode=display\">\\newcommand{\\Bold}[1]{\\mathbf{#1}}\\frac{1}{3} \\, t^{3} - t^{2} + 4 \\, t - 4</script></html>"
      ],
      "text/latex": [
       "\\begin{math}\n",
       "\\newcommand{\\Bold}[1]{\\mathbf{#1}}\\frac{1}{3} \\, t^{3} - t^{2} + 4 \\, t - 4\n",
       "\\end{math}"
      ],
      "text/plain": [
       "1/3*t^3 - t^2 + 4*t - 4"
      ]
     },
     "metadata": {},
     "output_type": "display_data"
    }
   ],
   "source": [
    "show(particular_solve(de,y))  # Solução da particular na variável y"
   ]
  },
  {
   "cell_type": "markdown",
   "metadata": {
    "slideshow": {
     "slide_type": "slide"
    }
   },
   "source": [
    "**EX:** Resolva $y'' + 2y' + y = (2+t)e^{-t}$"
   ]
  },
  {
   "cell_type": "code",
   "execution_count": 17,
   "metadata": {
    "slideshow": {
     "slide_type": "subslide"
    }
   },
   "outputs": [
    {
     "data": {
      "text/html": [
       "<html><script type=\"math/tex; mode=display\">\\newcommand{\\Bold}[1]{\\mathbf{#1}}\\verb|A|\\phantom{\\verb!x!}\\verb|solução|\\phantom{\\verb!x!}\\verb|geral|\\phantom{\\verb!x!}\\verb|y(t)|\\phantom{\\verb!x!}\\verb|da|\\phantom{\\verb!x!}\\verb|equação|\\phantom{\\verb!x!}\\verb|é:|</script></html>"
      ],
      "text/latex": [
       "\\begin{math}\n",
       "\\newcommand{\\Bold}[1]{\\mathbf{#1}}\\verb|A|\\phantom{\\verb!x!}\\verb|solução|\\phantom{\\verb!x!}\\verb|geral|\\phantom{\\verb!x!}\\verb|y(t)|\\phantom{\\verb!x!}\\verb|da|\\phantom{\\verb!x!}\\verb|equação|\\phantom{\\verb!x!}\\verb|é:|\n",
       "\\end{math}"
      ],
      "text/plain": [
       "'A solução geral y(t) da equação é: '"
      ]
     },
     "metadata": {},
     "output_type": "display_data"
    },
    {
     "data": {
      "text/html": [
       "<html><script type=\"math/tex; mode=display\">\\newcommand{\\Bold}[1]{\\mathbf{#1}}\\frac{1}{6} \\, {\\left(t^{3} + 6 \\, t^{2}\\right)} e^{\\left(-t\\right)} + {\\left(K_{2} t + K_{1}\\right)} e^{\\left(-t\\right)}</script></html>"
      ],
      "text/latex": [
       "\\begin{math}\n",
       "\\newcommand{\\Bold}[1]{\\mathbf{#1}}\\frac{1}{6} \\, {\\left(t^{3} + 6 \\, t^{2}\\right)} e^{\\left(-t\\right)} + {\\left(K_{2} t + K_{1}\\right)} e^{\\left(-t\\right)}\n",
       "\\end{math}"
      ],
      "text/plain": [
       "1/6*(t^3 + 6*t^2)*e^(-t) + (_K2*t + _K1)*e^(-t)"
      ]
     },
     "metadata": {},
     "output_type": "display_data"
    },
    {
     "data": {
      "text/html": [
       "<html><script type=\"math/tex; mode=display\">\\newcommand{\\Bold}[1]{\\mathbf{#1}}\\verb|Pelo|\\phantom{\\verb!x!}\\verb|método|\\phantom{\\verb!x!}\\verb|de|\\phantom{\\verb!x!}\\verb|variationofparameters|</script></html>"
      ],
      "text/latex": [
       "\\begin{math}\n",
       "\\newcommand{\\Bold}[1]{\\mathbf{#1}}\\verb|Pelo|\\phantom{\\verb!x!}\\verb|método|\\phantom{\\verb!x!}\\verb|de|\\phantom{\\verb!x!}\\verb|variationofparameters|\n",
       "\\end{math}"
      ],
      "text/plain": [
       "'Pelo método de variationofparameters'"
      ]
     },
     "metadata": {},
     "output_type": "display_data"
    },
    {
     "data": {
      "text/html": [
       "<html><script type=\"math/tex; mode=display\">\\newcommand{\\Bold}[1]{\\mathbf{#1}}\\verb|Conjunto|\\phantom{\\verb!x!}\\verb|fundamental|\\phantom{\\verb!x!}\\verb|de|\\phantom{\\verb!x!}\\verb|soluções:|</script></html>"
      ],
      "text/latex": [
       "\\begin{math}\n",
       "\\newcommand{\\Bold}[1]{\\mathbf{#1}}\\verb|Conjunto|\\phantom{\\verb!x!}\\verb|fundamental|\\phantom{\\verb!x!}\\verb|de|\\phantom{\\verb!x!}\\verb|soluções:|\n",
       "\\end{math}"
      ],
      "text/plain": [
       "'Conjunto fundamental de soluções:'"
      ]
     },
     "metadata": {},
     "output_type": "display_data"
    },
    {
     "data": {
      "text/html": [
       "<html><script type=\"math/tex; mode=display\">\\newcommand{\\Bold}[1]{\\mathbf{#1}}\\verb|{t*e^(-t),|\\phantom{\\verb!x!}\\verb|e^(-t)}|</script></html>"
      ],
      "text/latex": [
       "\\begin{math}\n",
       "\\newcommand{\\Bold}[1]{\\mathbf{#1}}\\verb|{t*e^(-t),|\\phantom{\\verb!x!}\\verb|e^(-t)}|\n",
       "\\end{math}"
      ],
      "text/plain": [
       "{t*e^(-t), e^(-t)}"
      ]
     },
     "metadata": {},
     "output_type": "display_data"
    },
    {
     "data": {
      "text/html": [
       "<html><script type=\"math/tex; mode=display\">\\newcommand{\\Bold}[1]{\\mathbf{#1}}\\verb|Solução|\\phantom{\\verb!x!}\\verb|da|\\phantom{\\verb!x!}\\verb|parte|\\phantom{\\verb!x!}\\verb|homogênea:|</script></html>"
      ],
      "text/latex": [
       "\\begin{math}\n",
       "\\newcommand{\\Bold}[1]{\\mathbf{#1}}\\verb|Solução|\\phantom{\\verb!x!}\\verb|da|\\phantom{\\verb!x!}\\verb|parte|\\phantom{\\verb!x!}\\verb|homogênea:|\n",
       "\\end{math}"
      ],
      "text/plain": [
       "'Solução da parte homogênea:'"
      ]
     },
     "metadata": {},
     "output_type": "display_data"
    },
    {
     "data": {
      "text/html": [
       "<html><script type=\"math/tex; mode=display\">\\newcommand{\\Bold}[1]{\\mathbf{#1}}{\\left(K_{2} t + K_{1}\\right)} e^{\\left(-t\\right)}</script></html>"
      ],
      "text/latex": [
       "\\begin{math}\n",
       "\\newcommand{\\Bold}[1]{\\mathbf{#1}}{\\left(K_{2} t + K_{1}\\right)} e^{\\left(-t\\right)}\n",
       "\\end{math}"
      ],
      "text/plain": [
       "(_K2*t + _K1)*e^(-t)"
      ]
     },
     "metadata": {},
     "output_type": "display_data"
    },
    {
     "data": {
      "text/html": [
       "<html><script type=\"math/tex; mode=display\">\\newcommand{\\Bold}[1]{\\mathbf{#1}}\\verb|Solução|\\phantom{\\verb!x!}\\verb|particular:|</script></html>"
      ],
      "text/latex": [
       "\\begin{math}\n",
       "\\newcommand{\\Bold}[1]{\\mathbf{#1}}\\verb|Solução|\\phantom{\\verb!x!}\\verb|particular:|\n",
       "\\end{math}"
      ],
      "text/plain": [
       "'Solução particular:'"
      ]
     },
     "metadata": {},
     "output_type": "display_data"
    },
    {
     "data": {
      "text/html": [
       "<html><script type=\"math/tex; mode=display\">\\newcommand{\\Bold}[1]{\\mathbf{#1}}\\frac{1}{6} \\, {\\left(t^{3} + 6 \\, t^{2}\\right)} e^{\\left(-t\\right)}</script></html>"
      ],
      "text/latex": [
       "\\begin{math}\n",
       "\\newcommand{\\Bold}[1]{\\mathbf{#1}}\\frac{1}{6} \\, {\\left(t^{3} + 6 \\, t^{2}\\right)} e^{\\left(-t\\right)}\n",
       "\\end{math}"
      ],
      "text/plain": [
       "1/6*(t^3 + 6*t^2)*e^(-t)"
      ]
     },
     "metadata": {},
     "output_type": "display_data"
    },
    {
     "data": {
      "image/png": "[encoded data removed]",
      "text/plain": [
       "Graphics object consisting of 4 graphics primitives"
      ]
     },
     "metadata": {},
     "output_type": "display_data"
    }
   ],
   "source": [
    "de = d2 + 2*d1 + y == (2+t)*e^(-t)\n",
    "desolvep(de,y)"
   ]
  },
  {
   "cell_type": "code",
   "execution_count": 18,
   "metadata": {
    "scrolled": true,
    "slideshow": {
     "slide_type": "subslide"
    }
   },
   "outputs": [],
   "source": [
    "# Gere o modelo\n",
    "# Gere o Conjunto Fundamental de Solução\n",
    "# Gere o Wronskiano do Conjunto Fundamental de Solução \n",
    "# Gere a Solução da Particular\n",
    "# Gere a Solução da Homogênea"
   ]
  },
  {
   "cell_type": "markdown",
   "metadata": {
    "slideshow": {
     "slide_type": "slide"
    }
   },
   "source": [
    "**EX:** Resolva $y'' +2y'+2y = e^t cos(t)$"
   ]
  },
  {
   "cell_type": "code",
   "execution_count": 19,
   "metadata": {
    "slideshow": {
     "slide_type": "subslide"
    }
   },
   "outputs": [
    {
     "data": {
      "text/html": [
       "<html><script type=\"math/tex; mode=display\">\\newcommand{\\Bold}[1]{\\mathbf{#1}}\\verb|A|\\phantom{\\verb!x!}\\verb|solução|\\phantom{\\verb!x!}\\verb|geral|\\phantom{\\verb!x!}\\verb|y(t)|\\phantom{\\verb!x!}\\verb|da|\\phantom{\\verb!x!}\\verb|equação|\\phantom{\\verb!x!}\\verb|é:|</script></html>"
      ],
      "text/latex": [
       "\\begin{math}\n",
       "\\newcommand{\\Bold}[1]{\\mathbf{#1}}\\verb|A|\\phantom{\\verb!x!}\\verb|solução|\\phantom{\\verb!x!}\\verb|geral|\\phantom{\\verb!x!}\\verb|y(t)|\\phantom{\\verb!x!}\\verb|da|\\phantom{\\verb!x!}\\verb|equação|\\phantom{\\verb!x!}\\verb|é:|\n",
       "\\end{math}"
      ],
      "text/plain": [
       "'A solução geral y(t) da equação é: '"
      ]
     },
     "metadata": {},
     "output_type": "display_data"
    },
    {
     "data": {
      "text/html": [
       "<html><script type=\"math/tex; mode=display\">\\newcommand{\\Bold}[1]{\\mathbf{#1}}{\\left(K_{2} \\cos\\left(t\\right) + K_{1} \\sin\\left(t\\right)\\right)} e^{\\left(-t\\right)} + \\frac{1}{8} \\, \\cos\\left(t\\right) e^{t} + \\frac{1}{8} \\, e^{t} \\sin\\left(t\\right)</script></html>"
      ],
      "text/latex": [
       "\\begin{math}\n",
       "\\newcommand{\\Bold}[1]{\\mathbf{#1}}{\\left(K_{2} \\cos\\left(t\\right) + K_{1} \\sin\\left(t\\right)\\right)} e^{\\left(-t\\right)} + \\frac{1}{8} \\, \\cos\\left(t\\right) e^{t} + \\frac{1}{8} \\, e^{t} \\sin\\left(t\\right)\n",
       "\\end{math}"
      ],
      "text/plain": [
       "(_K2*cos(t) + _K1*sin(t))*e^(-t) + 1/8*cos(t)*e^t + 1/8*e^t*sin(t)"
      ]
     },
     "metadata": {},
     "output_type": "display_data"
    },
    {
     "data": {
      "text/html": [
       "<html><script type=\"math/tex; mode=display\">\\newcommand{\\Bold}[1]{\\mathbf{#1}}\\verb|Pelo|\\phantom{\\verb!x!}\\verb|método|\\phantom{\\verb!x!}\\verb|de|\\phantom{\\verb!x!}\\verb|variationofparameters|</script></html>"
      ],
      "text/latex": [
       "\\begin{math}\n",
       "\\newcommand{\\Bold}[1]{\\mathbf{#1}}\\verb|Pelo|\\phantom{\\verb!x!}\\verb|método|\\phantom{\\verb!x!}\\verb|de|\\phantom{\\verb!x!}\\verb|variationofparameters|\n",
       "\\end{math}"
      ],
      "text/plain": [
       "'Pelo método de variationofparameters'"
      ]
     },
     "metadata": {},
     "output_type": "display_data"
    },
    {
     "data": {
      "text/html": [
       "<html><script type=\"math/tex; mode=display\">\\newcommand{\\Bold}[1]{\\mathbf{#1}}\\verb|Conjunto|\\phantom{\\verb!x!}\\verb|fundamental|\\phantom{\\verb!x!}\\verb|de|\\phantom{\\verb!x!}\\verb|soluções:|</script></html>"
      ],
      "text/latex": [
       "\\begin{math}\n",
       "\\newcommand{\\Bold}[1]{\\mathbf{#1}}\\verb|Conjunto|\\phantom{\\verb!x!}\\verb|fundamental|\\phantom{\\verb!x!}\\verb|de|\\phantom{\\verb!x!}\\verb|soluções:|\n",
       "\\end{math}"
      ],
      "text/plain": [
       "'Conjunto fundamental de soluções:'"
      ]
     },
     "metadata": {},
     "output_type": "display_data"
    },
    {
     "data": {
      "text/html": [
       "<html><script type=\"math/tex; mode=display\">\\newcommand{\\Bold}[1]{\\mathbf{#1}}\\verb|{e^(-t)*sin(t),|\\phantom{\\verb!x!}\\verb|cos(t)*e^(-t)}|</script></html>"
      ],
      "text/latex": [
       "\\begin{math}\n",
       "\\newcommand{\\Bold}[1]{\\mathbf{#1}}\\verb|{e^(-t)*sin(t),|\\phantom{\\verb!x!}\\verb|cos(t)*e^(-t)}|\n",
       "\\end{math}"
      ],
      "text/plain": [
       "{e^(-t)*sin(t), cos(t)*e^(-t)}"
      ]
     },
     "metadata": {},
     "output_type": "display_data"
    },
    {
     "data": {
      "text/html": [
       "<html><script type=\"math/tex; mode=display\">\\newcommand{\\Bold}[1]{\\mathbf{#1}}\\verb|Solução|\\phantom{\\verb!x!}\\verb|da|\\phantom{\\verb!x!}\\verb|parte|\\phantom{\\verb!x!}\\verb|homogênea:|</script></html>"
      ],
      "text/latex": [
       "\\begin{math}\n",
       "\\newcommand{\\Bold}[1]{\\mathbf{#1}}\\verb|Solução|\\phantom{\\verb!x!}\\verb|da|\\phantom{\\verb!x!}\\verb|parte|\\phantom{\\verb!x!}\\verb|homogênea:|\n",
       "\\end{math}"
      ],
      "text/plain": [
       "'Solução da parte homogênea:'"
      ]
     },
     "metadata": {},
     "output_type": "display_data"
    },
    {
     "data": {
      "text/html": [
       "<html><script type=\"math/tex; mode=display\">\\newcommand{\\Bold}[1]{\\mathbf{#1}}{\\left(K_{2} \\cos\\left(t\\right) + K_{1} \\sin\\left(t\\right)\\right)} e^{\\left(-t\\right)}</script></html>"
      ],
      "text/latex": [
       "\\begin{math}\n",
       "\\newcommand{\\Bold}[1]{\\mathbf{#1}}{\\left(K_{2} \\cos\\left(t\\right) + K_{1} \\sin\\left(t\\right)\\right)} e^{\\left(-t\\right)}\n",
       "\\end{math}"
      ],
      "text/plain": [
       "(_K2*cos(t) + _K1*sin(t))*e^(-t)"
      ]
     },
     "metadata": {},
     "output_type": "display_data"
    },
    {
     "data": {
      "text/html": [
       "<html><script type=\"math/tex; mode=display\">\\newcommand{\\Bold}[1]{\\mathbf{#1}}\\verb|Solução|\\phantom{\\verb!x!}\\verb|particular:|</script></html>"
      ],
      "text/latex": [
       "\\begin{math}\n",
       "\\newcommand{\\Bold}[1]{\\mathbf{#1}}\\verb|Solução|\\phantom{\\verb!x!}\\verb|particular:|\n",
       "\\end{math}"
      ],
      "text/plain": [
       "'Solução particular:'"
      ]
     },
     "metadata": {},
     "output_type": "display_data"
    },
    {
     "data": {
      "text/html": [
       "<html><script type=\"math/tex; mode=display\">\\newcommand{\\Bold}[1]{\\mathbf{#1}}\\frac{1}{8} \\, \\cos\\left(t\\right) e^{t} + \\frac{1}{8} \\, e^{t} \\sin\\left(t\\right)</script></html>"
      ],
      "text/latex": [
       "\\begin{math}\n",
       "\\newcommand{\\Bold}[1]{\\mathbf{#1}}\\frac{1}{8} \\, \\cos\\left(t\\right) e^{t} + \\frac{1}{8} \\, e^{t} \\sin\\left(t\\right)\n",
       "\\end{math}"
      ],
      "text/plain": [
       "1/8*cos(t)*e^t + 1/8*e^t*sin(t)"
      ]
     },
     "metadata": {},
     "output_type": "display_data"
    },
    {
     "data": {
      "image/png": "[encoded data removed]",
      "text/plain": [
       "Graphics object consisting of 4 graphics primitives"
      ]
     },
     "metadata": {},
     "output_type": "display_data"
    }
   ],
   "source": [
    "desolvep(d2+2*d1+2*y==e^(t)*cos(t),y)"
   ]
  },
  {
   "cell_type": "code",
   "execution_count": 20,
   "metadata": {},
   "outputs": [
    {
     "data": {
      "text/plain": [
       "_K2*e^(-t) + _K1 + e^t"
      ]
     },
     "execution_count": 20,
     "metadata": {},
     "output_type": "execute_result"
    }
   ],
   "source": [
    "var(\"y,t\") # Declaração de Variáveis;\n",
    "y = function('y')(t)  # Reconheça y como função de t;\n",
    "d1 = diff(y,t)  # Derivada de y com relação a t;\n",
    "d2 = diff(y,t,2)  # Derivada de y com relação a t de ordem 2;\n",
    "desolve(d2+d1 == 2*e^t,y) # Função que resolve uma EDO em função de y"
   ]
  },
  {
   "cell_type": "code",
   "execution_count": 21,
   "metadata": {},
   "outputs": [
    {
     "data": {
      "text/html": [
       "<html><script type=\"math/tex; mode=display\">\\newcommand{\\Bold}[1]{\\mathbf{#1}}\\verb|A|\\phantom{\\verb!x!}\\verb|solução|\\phantom{\\verb!x!}\\verb|geral|\\phantom{\\verb!x!}\\verb|y(t)|\\phantom{\\verb!x!}\\verb|da|\\phantom{\\verb!x!}\\verb|equação|\\phantom{\\verb!x!}\\verb|é:|</script></html>"
      ],
      "text/latex": [
       "\\begin{math}\n",
       "\\newcommand{\\Bold}[1]{\\mathbf{#1}}\\verb|A|\\phantom{\\verb!x!}\\verb|solução|\\phantom{\\verb!x!}\\verb|geral|\\phantom{\\verb!x!}\\verb|y(t)|\\phantom{\\verb!x!}\\verb|da|\\phantom{\\verb!x!}\\verb|equação|\\phantom{\\verb!x!}\\verb|é:|\n",
       "\\end{math}"
      ],
      "text/plain": [
       "'A solução geral y(t) da equação é: '"
      ]
     },
     "metadata": {},
     "output_type": "display_data"
    },
    {
     "data": {
      "text/html": [
       "<html><script type=\"math/tex; mode=display\">\\newcommand{\\Bold}[1]{\\mathbf{#1}}K_{2} e^{\\left(-t\\right)} + K_{1} + e^{t}</script></html>"
      ],
      "text/latex": [
       "\\begin{math}\n",
       "\\newcommand{\\Bold}[1]{\\mathbf{#1}}K_{2} e^{\\left(-t\\right)} + K_{1} + e^{t}\n",
       "\\end{math}"
      ],
      "text/plain": [
       "_K2*e^(-t) + _K1 + e^t"
      ]
     },
     "metadata": {},
     "output_type": "display_data"
    },
    {
     "data": {
      "text/html": [
       "<html><script type=\"math/tex; mode=display\">\\newcommand{\\Bold}[1]{\\mathbf{#1}}\\verb|Pelo|\\phantom{\\verb!x!}\\verb|método|\\phantom{\\verb!x!}\\verb|de|\\phantom{\\verb!x!}\\verb|variationofparameters|</script></html>"
      ],
      "text/latex": [
       "\\begin{math}\n",
       "\\newcommand{\\Bold}[1]{\\mathbf{#1}}\\verb|Pelo|\\phantom{\\verb!x!}\\verb|método|\\phantom{\\verb!x!}\\verb|de|\\phantom{\\verb!x!}\\verb|variationofparameters|\n",
       "\\end{math}"
      ],
      "text/plain": [
       "'Pelo método de variationofparameters'"
      ]
     },
     "metadata": {},
     "output_type": "display_data"
    },
    {
     "data": {
      "text/html": [
       "<html><script type=\"math/tex; mode=display\">\\newcommand{\\Bold}[1]{\\mathbf{#1}}\\verb|Conjunto|\\phantom{\\verb!x!}\\verb|fundamental|\\phantom{\\verb!x!}\\verb|de|\\phantom{\\verb!x!}\\verb|soluções:|</script></html>"
      ],
      "text/latex": [
       "\\begin{math}\n",
       "\\newcommand{\\Bold}[1]{\\mathbf{#1}}\\verb|Conjunto|\\phantom{\\verb!x!}\\verb|fundamental|\\phantom{\\verb!x!}\\verb|de|\\phantom{\\verb!x!}\\verb|soluções:|\n",
       "\\end{math}"
      ],
      "text/plain": [
       "'Conjunto fundamental de soluções:'"
      ]
     },
     "metadata": {},
     "output_type": "display_data"
    },
    {
     "data": {
      "text/html": [
       "<html><script type=\"math/tex; mode=display\">\\newcommand{\\Bold}[1]{\\mathbf{#1}}\\verb|{1,|\\phantom{\\verb!x!}\\verb|e^(-t)}|</script></html>"
      ],
      "text/latex": [
       "\\begin{math}\n",
       "\\newcommand{\\Bold}[1]{\\mathbf{#1}}\\verb|{1,|\\phantom{\\verb!x!}\\verb|e^(-t)}|\n",
       "\\end{math}"
      ],
      "text/plain": [
       "{1, e^(-t)}"
      ]
     },
     "metadata": {},
     "output_type": "display_data"
    },
    {
     "data": {
      "text/html": [
       "<html><script type=\"math/tex; mode=display\">\\newcommand{\\Bold}[1]{\\mathbf{#1}}\\verb|Solução|\\phantom{\\verb!x!}\\verb|da|\\phantom{\\verb!x!}\\verb|parte|\\phantom{\\verb!x!}\\verb|homogênea:|</script></html>"
      ],
      "text/latex": [
       "\\begin{math}\n",
       "\\newcommand{\\Bold}[1]{\\mathbf{#1}}\\verb|Solução|\\phantom{\\verb!x!}\\verb|da|\\phantom{\\verb!x!}\\verb|parte|\\phantom{\\verb!x!}\\verb|homogênea:|\n",
       "\\end{math}"
      ],
      "text/plain": [
       "'Solução da parte homogênea:'"
      ]
     },
     "metadata": {},
     "output_type": "display_data"
    },
    {
     "data": {
      "text/html": [
       "<html><script type=\"math/tex; mode=display\">\\newcommand{\\Bold}[1]{\\mathbf{#1}}K_{2} e^{\\left(-t\\right)} + K_{1}</script></html>"
      ],
      "text/latex": [
       "\\begin{math}\n",
       "\\newcommand{\\Bold}[1]{\\mathbf{#1}}K_{2} e^{\\left(-t\\right)} + K_{1}\n",
       "\\end{math}"
      ],
      "text/plain": [
       "_K2*e^(-t) + _K1"
      ]
     },
     "metadata": {},
     "output_type": "display_data"
    },
    {
     "data": {
      "text/html": [
       "<html><script type=\"math/tex; mode=display\">\\newcommand{\\Bold}[1]{\\mathbf{#1}}\\verb|Solução|\\phantom{\\verb!x!}\\verb|particular:|</script></html>"
      ],
      "text/latex": [
       "\\begin{math}\n",
       "\\newcommand{\\Bold}[1]{\\mathbf{#1}}\\verb|Solução|\\phantom{\\verb!x!}\\verb|particular:|\n",
       "\\end{math}"
      ],
      "text/plain": [
       "'Solução particular:'"
      ]
     },
     "metadata": {},
     "output_type": "display_data"
    },
    {
     "data": {
      "text/html": [
       "<html><script type=\"math/tex; mode=display\">\\newcommand{\\Bold}[1]{\\mathbf{#1}}e^{t}</script></html>"
      ],
      "text/latex": [
       "\\begin{math}\n",
       "\\newcommand{\\Bold}[1]{\\mathbf{#1}}e^{t}\n",
       "\\end{math}"
      ],
      "text/plain": [
       "e^t"
      ]
     },
     "metadata": {},
     "output_type": "display_data"
    },
    {
     "data": {
      "image/png": "[encoded data removed]",
      "text/plain": [
       "Graphics object consisting of 4 graphics primitives"
      ]
     },
     "metadata": {},
     "output_type": "display_data"
    }
   ],
   "source": [
    "desolvep(d2+d1 == 2*e^t,y) # Função autoral"
   ]
  },
  {
   "cell_type": "code",
   "execution_count": null,
   "metadata": {},
   "outputs": [],
   "source": []
  }
 ],
 "metadata": {
  "kernelspec": {
   "display_name": "SageMath 9.2",
   "language": "sage",
   "name": "sagemath"
  },
  "language_info": {
   "codemirror_mode": {
    "name": "ipython",
    "version": 3
   },
   "file_extension": ".py",
   "mimetype": "text/x-python",
   "name": "python",
   "nbconvert_exporter": "python",
   "pygments_lexer": "ipython3",
   "version": "3.9.5"
  }
 },
 "nbformat": 4,
 "nbformat_minor": 4
}
